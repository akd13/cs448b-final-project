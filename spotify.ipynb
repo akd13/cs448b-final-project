{
 "cells": [
  {
   "cell_type": "code",
   "execution_count": 1,
   "id": "7281dda3-f5a7-4977-b76f-101fd0cd8c32",
   "metadata": {},
   "outputs": [],
   "source": [
    "import requests\n",
    "import json"
   ]
  },
  {
   "cell_type": "code",
   "execution_count": 2,
   "id": "561c2c37-6d8b-4a67-a992-e0154c28d900",
   "metadata": {},
   "outputs": [],
   "source": [
    "client_id = \"\"\n",
    "client_secret = \"\"\n",
    "api_key = \"\"\n",
    "\n",
    "with open('config.json', 'r') as file:\n",
    "    data = json.load(file)\n",
    "\n",
    "client_id = data.get('client_id', '')\n",
    "client_secret = data.get('client_secret', '')\n",
    "api_key = data.get('api_key', '')"
   ]
  },
  {
   "cell_type": "markdown",
   "id": "fd645f9b-04fb-4d57-a315-e38cf34133f6",
   "metadata": {},
   "source": [
    "# Spotify\n",
    "### Methods to get access token, genre from artist name, and track URI"
   ]
  },
  {
   "cell_type": "code",
   "execution_count": 9,
   "id": "4a7a22cd-3d04-4f67-84db-b19c451195a3",
   "metadata": {},
   "outputs": [],
   "source": [
    "def get_spotify_access_token(client_id, client_secret):\n",
    "    url = \"https://accounts.spotify.com/api/token\"\n",
    "    data = {\"grant_type\": \"client_credentials\"}\n",
    "    response = requests.post(url, data=data, auth=(client_id, client_secret))\n",
    "    token_data = response.json()\n",
    "    return token_data[\"access_token\"]\n",
    "    \n",
    "def get_genre_for_artist(artist_name, access_token):\n",
    "    url = f\"https://api.spotify.com/v1/search?q={artist_name}&type=artist\"\n",
    "    headers = {\"Authorization\": f\"Bearer {access_token}\"}\n",
    "    response = requests.get(url, headers=headers)\n",
    "    data = response.json()\n",
    "    # print(data)\n",
    "    if 'artists' in data and 'items' in data['artists'] and data['artists']['items']:\n",
    "        artist = data['artists']['items'][0]\n",
    "        if 'genres' in artist:\n",
    "            genres = artist['genres']\n",
    "            return genres\n",
    "    return []\n",
    "\n",
    "def get_track_uri(track_name, artist_name, access_token):\n",
    "    search_query = f\"track:{track_name} artist:{artist_name}\"\n",
    "    url = f\"https://api.spotify.com/v1/search?q={search_query}&type=track\"\n",
    "    headers = {\"Authorization\": f\"Bearer {access_token}\"}\n",
    "    response = requests.get(url, headers=headers)\n",
    "    data = response.json()\n",
    "\n",
    "    if 'tracks' in data and 'items' in data['tracks'] and data['tracks']['items']:\n",
    "        track_uri = data['tracks']['items'][0]['uri']\n",
    "        return track_uri\n",
    "\n",
    "    return None\n",
    "\n",
    "def get_audio_features(track_uris, access_token):\n",
    "    url = \"https://api.spotify.com/v1/audio-features\"\n",
    "    headers = {\n",
    "        \"Authorization\": f\"Bearer {access_token}\",\n",
    "    }\n",
    "    params = {\"ids\": \",\".join(track_uris)}\n",
    "    response = requests.get(url, headers=headers, params=params)\n",
    "    data = response.json()\n",
    "\n",
    "    if 'audio_features' in data:\n",
    "        return data['audio_features']\n",
    "\n",
    "    return []"
   ]
  },
  {
   "cell_type": "code",
   "execution_count": 10,
   "id": "568ea7fd-8bf7-4775-b0f6-b2429db77b86",
   "metadata": {},
   "outputs": [
    {
     "name": "stdout",
     "output_type": "stream",
     "text": [
      "Genres for The Isley Brothers: classic soul, disco, funk, motown, quiet storm, soul\n",
      "Track URI for Here We Go Again, Pts. 1 & 2: spotify:track:0z5qnWq8cOqHJoegSKGwjt\n",
      "Track URI: spotify:track:0z5qnWq8cOqHJoegSKGwjt\n",
      "Acousticness: 0.291\n",
      "Danceability: 0.679\n",
      "Energy: 0.722\n",
      "Valence: 0.905\n"
     ]
    }
   ],
   "source": [
    "artist_name = \"The Isley Brothers\"\n",
    "track_name = \"Here We Go Again, Pts. 1 & 2\"\n",
    "\n",
    "access_token = get_spotify_access_token(client_id, client_secret)\n",
    "\n",
    "genres = get_genre_for_artist(artist_name, access_token)\n",
    "track_uri = get_track_uri(track_name, artist_name, access_token)\n",
    "audio_features = get_audio_features([track_uri.split(\":\")[-1]], access_token)\n",
    "\n",
    "print(f\"Genres for {artist_name}: {', '.join(genres)}\")\n",
    "print(f\"Track URI for {track_name}: {track_uri}\")\n",
    "\n",
    "for track in audio_features:\n",
    "    if not track:\n",
    "        continue\n",
    "\n",
    "    print(f\"Track URI: {track['uri']}\")\n",
    "    print(f\"Acousticness: {track['acousticness']}\")\n",
    "    print(f\"Danceability: {track['danceability']}\")\n",
    "    print(f\"Energy: {track['energy']}\")\n",
    "    print(f\"Valence: {track['valence']}\")"
   ]
  },
  {
   "cell_type": "markdown",
   "id": "04e0c6fc-dffc-4524-a4a5-67655e544bff",
   "metadata": {},
   "source": [
    "# Last.fm\n",
    "### Methods to get genre from artist name"
   ]
  },
  {
   "cell_type": "code",
   "execution_count": 11,
   "id": "376cf2a1-84b0-4851-af07-7951ea92183d",
   "metadata": {},
   "outputs": [
    {
     "name": "stdout",
     "output_type": "stream",
     "text": [
      "Genres for the track 'Here We Go Again, Pts. 1 & 2' by The Isley Brothers: soul, funk, motown, rhythm and blues, rnb\n"
     ]
    }
   ],
   "source": [
    "def get_genre_for_artist(track_name, artist_name):\n",
    "    url = f\"http://ws.audioscrobbler.com/2.0/?method=artist.getinfo&track={track_name}&artist={artist_name}&api_key={api_key}&format=json\"\n",
    "    response = requests.get(url)\n",
    "    data = response.json()\n",
    "    # print(data)\n",
    "    if 'artist' in data and 'tags' in data['artist']:\n",
    "        genres = [tag['name'] for tag in data['artist']['tags']['tag']]\n",
    "        return genres\n",
    "    else:\n",
    "        return []\n",
    "    \n",
    "genres = get_genre_for_artist(track_name, artist_name)\n",
    "print(f\"Genres for the track '{track_name}' by {artist_name}: {', '.join(genres)}\")\n"
   ]
  },
  {
   "cell_type": "code",
   "execution_count": null,
   "id": "030b6751-730e-425f-815c-b665f68e5f6c",
   "metadata": {},
   "outputs": [],
   "source": []
  }
 ],
 "metadata": {
  "kernelspec": {
   "display_name": "venv",
   "language": "python",
   "name": "venv"
  },
  "language_info": {
   "codemirror_mode": {
    "name": "ipython",
    "version": 3
   },
   "file_extension": ".py",
   "mimetype": "text/x-python",
   "name": "python",
   "nbconvert_exporter": "python",
   "pygments_lexer": "ipython3",
   "version": "3.11.2"
  }
 },
 "nbformat": 4,
 "nbformat_minor": 5
}
